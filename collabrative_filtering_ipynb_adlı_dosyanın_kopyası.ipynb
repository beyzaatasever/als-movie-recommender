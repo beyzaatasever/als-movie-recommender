{
  "nbformat": 4,
  "nbformat_minor": 0,
  "metadata": {
    "colab": {
      "provenance": [],
      "authorship_tag": "ABX9TyNEW0Im+2hQjZ3Dl/WuOk43",
      "include_colab_link": true
    },
    "kernelspec": {
      "name": "python3",
      "display_name": "Python 3"
    },
    "language_info": {
      "name": "python"
    }
  },
  "cells": [
    {
      "cell_type": "markdown",
      "metadata": {
        "id": "view-in-github",
        "colab_type": "text"
      },
      "source": [
        "<a href=\"https://colab.research.google.com/github/beyzaatasever/als-movie-recommender/blob/main/collabrative_filtering_ipynb_adl%C4%B1_dosyan%C4%B1n_kopyas%C4%B1.ipynb\" target=\"_parent\"><img src=\"https://colab.research.google.com/assets/colab-badge.svg\" alt=\"Open In Colab\"/></a>"
      ]
    },
    {
      "cell_type": "code",
      "execution_count": null,
      "metadata": {
        "id": "4_5mEGybrrkM"
      },
      "outputs": [],
      "source": [
        "import pandas as pd\n",
        "\n",
        "\n",
        "movies_df = pd.read_csv('movies.csv')\n",
        "ratings_df = pd.read_csv('ratings.csv')\n",
        "\n",
        "\n",
        "print(movies_df.head())\n",
        "\n"
      ]
    },
    {
      "cell_type": "code",
      "source": [
        "import pandas as pd\n",
        "\n",
        "\n",
        "films_df = pd.read_csv('films.csv')\n",
        "\n",
        "\n",
        "print(films_df.head())\n",
        "films_df.head()\n"
      ],
      "metadata": {
        "id": "cUS5TONatomo"
      },
      "execution_count": null,
      "outputs": []
    },
    {
      "cell_type": "code",
      "source": [
        "\n",
        "print(\"Movies DataFrame:\")\n",
        "print(movies_df.head())\n",
        "\n",
        "print(\"\\nRatings DataFrame:\")\n",
        "print(ratings_df.head())\n",
        "\n",
        "print(\"\\nFilms DataFrame:\")\n",
        "print(films_df.head())"
      ],
      "metadata": {
        "id": "pbmIoeYGv_e_"
      },
      "execution_count": null,
      "outputs": []
    },
    {
      "cell_type": "code",
      "source": [
        "# extract year column\n",
        "import pandas as pd\n",
        "import re  # 're' modülünü içe aktarıyoruz\n",
        "def extract_year(title):\n",
        "    match = re.search(r'\\((\\d{4})\\)', title)\n",
        "    if match:\n",
        "        return int(match.group(1))\n",
        "    return None\n",
        "\n",
        "movies_df['year'] = movies_df['title'].apply(extract_year)\n",
        "\n",
        "# check year column\n",
        "print(\"Movies DataFrame with extracted year:\")\n",
        "print(movies_df.head())\n",
        "\n",
        "movies_df = movies_df.dropna(subset=['year']) #na leri kaldırdım\n",
        "#delete NaN values\n",
        "movies_df['year'] = movies_df['year'].astype(int)\n",
        "\n",
        "# check new year column\n",
        "print(\"Movies DataFrame with extracted year:\")\n",
        "print(movies_df.head())"
      ],
      "metadata": {
        "id": "wZE3FTNSwn-T"
      },
      "execution_count": null,
      "outputs": []
    },
    {
      "cell_type": "code",
      "source": [
        "\n",
        "print(\"Movies DataFrame:\")\n",
        "print(movies_df.head())\n",
        "\n",
        "print(\"\\nFilms DataFrame:\")\n",
        "print(films_df.head())"
      ],
      "metadata": {
        "id": "86qNZ7UvxlK-"
      },
      "execution_count": null,
      "outputs": []
    },
    {
      "cell_type": "code",
      "source": [
        "\n",
        "films_df['Name'] = films_df['Name'].str.lower().str.strip()\n",
        "movies_df['title'] = movies_df['title'].str.lower().str.strip()\n",
        "\n",
        "print(\"Cleaned Movies DataFrame with integer year:\")\n",
        "print(movies_df.head())\n",
        "print(\"\\nFilms DataFrame:\")\n",
        "print(films_df.head())\n"
      ],
      "metadata": {
        "id": "y9Ql0o3PzkZw"
      },
      "execution_count": null,
      "outputs": []
    },
    {
      "cell_type": "code",
      "source": [
        "# merged films\n",
        "merged_df = pd.merge(films_df, movies_df, left_on=['Name', 'Year'], right_on=['title', 'year'], how='inner')"
      ],
      "metadata": {
        "id": "mAnWfFklzxwe"
      },
      "execution_count": null,
      "outputs": []
    },
    {
      "cell_type": "code",
      "source": [
        "# check frames\n",
        "print(\"Films DataFrame:\")\n",
        "print(films_df[['Name', 'Year']].head())\n",
        "print(films_df.dtypes)\n",
        "\n",
        "print(\"\\nMovies DataFrame:\")\n",
        "print(movies_df[['title', 'year']].head())\n",
        "print(movies_df.dtypes)\n"
      ],
      "metadata": {
        "id": "dC_1exMXz0jS"
      },
      "execution_count": null,
      "outputs": []
    },
    {
      "cell_type": "code",
      "source": [
        "\n",
        "films_selected = films_df[['Name', 'Year']]\n",
        "\n",
        "print(\"Selected Films DataFrame:\")\n",
        "print(films_selected)\n",
        "\n",
        "films_list = films_selected.values.tolist()\n",
        "\n",
        "\n",
        "print(\"Films List:\")\n",
        "print(films_list)\n"
      ],
      "metadata": {
        "id": "7DjbPGXR0sef"
      },
      "execution_count": null,
      "outputs": []
    },
    {
      "cell_type": "code",
      "source": [
        "# found matched films\n",
        "def find_matching_movie(name, year, movies_df):\n",
        "    matching_movies = movies_df[(movies_df['year'] == year) & (movies_df['title'].str.contains(name, case=False, na=False))]\n",
        "    return matching_movies\n",
        "\n",
        "# found for al films matched\n",
        "matched_movies = []\n",
        "for name, year in films_list:\n",
        "    matched = find_matching_movie(name, year, movies_df)\n",
        "    if not matched.empty:\n",
        "        matched_movies.append(matched)\n",
        "\n",
        "# Turned matched films into dataframes\n",
        "if matched_movies:\n",
        "    matched_movies_df = pd.concat(matched_movies)\n",
        "else:\n",
        "    matched_movies_df = pd.DataFrame()\n",
        "\n",
        "print(\"\\nMatched Movies DataFrame:\")\n",
        "print(matched_movies_df)\n"
      ],
      "metadata": {
        "id": "0QuTBTNH05EH"
      },
      "execution_count": null,
      "outputs": []
    },
    {
      "cell_type": "code",
      "source": [
        "# lets give new ID to the user\n",
        "user_id = 9999\n",
        "\n",
        "# adding ratings for user\n",
        "user_ratings = matched_movies_df[['movieId']].copy()\n",
        "user_ratings['userId'] = user_id\n",
        "user_ratings['rating'] = 5  # added 5 stars\n",
        "\n",
        "# adding new rating to old ones\n",
        "all_ratings = pd.concat([ratings_df[['userId', 'movieId', 'rating']], user_ratings])\n",
        "\n",
        "print(\"\\nAll Ratings DataFrame (Yeni Kullanıcı Ratingleriyle):\")\n",
        "print(all_ratings.tail())\n"
      ],
      "metadata": {
        "id": "QAHuEJ--1SCB"
      },
      "execution_count": null,
      "outputs": []
    },
    {
      "cell_type": "code",
      "source": [
        "\n",
        "\n",
        "from pyspark.sql import SparkSession\n",
        "from pyspark.ml.recommendation import ALS\n",
        "from pyspark.ml.evaluation import RegressionEvaluator\n",
        "\n",
        "spark = SparkSession.builder.appName(\"movie-recommendation\").getOrCreate()\n",
        "\n",
        "all_ratings_spark = spark.createDataFrame(all_ratings)\n",
        "\n",
        "\n",
        "(training, test) = all_ratings_spark.randomSplit([0.8, 0.2])\n",
        "\n",
        "\n",
        "als = ALS(\n",
        "    userCol=\"userId\",\n",
        "    itemCol=\"movieId\",\n",
        "    ratingCol=\"rating\",\n",
        "    nonnegative=True,\n",
        "    implicitPrefs=False,\n",
        "    coldStartStrategy=\"drop\",\n",
        "    rank=10,\n",
        "    maxIter=15,\n",
        "    regParam=0.1\n",
        ")\n",
        "\n",
        "\n",
        "model = als.fit(training)\n",
        "\n",
        "\n",
        "predictions = model.transform(test)\n",
        "\n",
        "# Tahminleri ve gerçek değerleri göster\n",
        "predictions.show()\n",
        "\n",
        "# RMSE'yi hesaplayalım\n",
        "evaluator = RegressionEvaluator(\n",
        "    metricName=\"rmse\",\n",
        "    labelCol=\"rating\",\n",
        "    predictionCol=\"prediction\"\n",
        ")\n",
        "\n",
        "rmse = evaluator.evaluate(predictions)\n",
        "print(\"Root-mean-square error = \" + str(rmse))\n",
        "\n",
        "\n",
        "# Calculating MAE\n",
        "evaluator_mae = RegressionEvaluator(\n",
        "    metricName=\"mae\",\n",
        "    labelCol=\"rating\",\n",
        "    predictionCol=\"prediction\"\n",
        ")\n",
        "\n",
        "mae = evaluator_mae.evaluate(predictions)\n",
        "print(\"Mean Absolute Error = \" + str(mae))\n",
        "\n",
        "\n",
        "# Make recomandations\n",
        "user_subset = all_ratings_spark.filter(all_ratings_spark.userId == user_id)\n",
        "recommendations = model.recommendForUserSubset(user_subset, numItems=10)\n",
        "\n",
        "recommendations_df = recommendations.toPandas()\n",
        "recommended_movie_ids = [row.movieId for row in recommendations_df.iloc[0]['recommendations']]\n",
        "\n",
        "\n",
        "recommended_movies = movies_df[movies_df['movieId'].isin(recommended_movie_ids)]\n",
        "print(\"\\nRecommended Movies:\")\n",
        "print(recommended_movies[['movieId', 'title']])\n"
      ],
      "metadata": {
        "id": "8lRyaR6jq5uc"
      },
      "execution_count": null,
      "outputs": []
    }
  ]
}